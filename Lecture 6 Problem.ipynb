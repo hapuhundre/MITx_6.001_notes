{
 "cells": [
  {
   "cell_type": "markdown",
   "metadata": {
    "collapsed": true
   },
   "source": [
    "### L6 Problem 2\n",
    "给出一个元组，返回奇数个元素组成的元组，\n",
    "例如：\n",
    ">  the tuple ```('I', 'am', 'a', 'test', 'tuple')```, then evaluating ```oddTuples``` on this input would return the tuple ```('I', 'a', 'tuple')```."
   ]
  },
  {
   "cell_type": "code",
   "execution_count": 9,
   "metadata": {
    "collapsed": false
   },
   "outputs": [
    {
     "name": "stdout",
     "output_type": "stream",
     "text": [
      "('I', 'a', 'tuple')\n"
     ]
    }
   ],
   "source": [
    "def oddTuples(aTup):\n",
    "    '''\n",
    "    aTup: a tuple\n",
    "    \n",
    "    returns: tuple, every other element of aTup. \n",
    "    '''\n",
    "    return aTup[::2]\n",
    "\n",
    "print(oddTuples(('I', 'am', 'a', 'test', 'tuple')))\n"
   ]
  },
  {
   "cell_type": "markdown",
   "metadata": {},
   "source": [
    "注意下：range函数中只能使用整数，下面这种表达形式是错误的：\n",
    "``` python\n",
    "range(0, 10.5, 0.5)\n",
    "```"
   ]
  },
  {
   "cell_type": "code",
   "execution_count": 24,
   "metadata": {
    "collapsed": false
   },
   "outputs": [
    {
     "ename": "TypeError",
     "evalue": "'float' object cannot be interpreted as an integer",
     "output_type": "error",
     "traceback": [
      "\u001b[1;31m---------------------------------------------------------------------------\u001b[0m",
      "\u001b[1;31mTypeError\u001b[0m                                 Traceback (most recent call last)",
      "\u001b[1;32m<ipython-input-24-a7c1f54ac871>\u001b[0m in \u001b[0;36m<module>\u001b[1;34m()\u001b[0m\n\u001b[1;32m----> 1\u001b[1;33m \u001b[1;32mfor\u001b[0m \u001b[0mi\u001b[0m \u001b[1;32min\u001b[0m \u001b[0mrange\u001b[0m\u001b[1;33m(\u001b[0m\u001b[1;36m3\u001b[0m\u001b[1;33m,\u001b[0m \u001b[1;36m10.5\u001b[0m\u001b[1;33m,\u001b[0m \u001b[1;36m0.5\u001b[0m\u001b[1;33m)\u001b[0m\u001b[1;33m:\u001b[0m\u001b[1;33m\u001b[0m\u001b[0m\n\u001b[0m\u001b[0;32m      2\u001b[0m     \u001b[0mprint\u001b[0m\u001b[1;33m(\u001b[0m\u001b[0mi\u001b[0m\u001b[1;33m)\u001b[0m\u001b[1;33m\u001b[0m\u001b[0m\n",
      "\u001b[1;31mTypeError\u001b[0m: 'float' object cannot be interpreted as an integer"
     ]
    }
   ],
   "source": [
    "for i in range(3, 10.5, 0.5):\n",
    "    print(i)"
   ]
  },
  {
   "cell_type": "code",
   "execution_count": 60,
   "metadata": {
    "collapsed": false
   },
   "outputs": [
    {
     "data": {
      "text/plain": [
       "[4, 3, 6, 1, 4, 4, 1, 0, 100]"
      ]
     },
     "execution_count": 60,
     "metadata": {},
     "output_type": "execute_result"
    }
   ],
   "source": [
    "listA = [1, 4, 3, 0]\n",
    "listB = ['x', 'z', 't', 'q']\n",
    "\n",
    "listA.sort  # 生成函数\n",
    "listA.sort() # 排序，listA更新成[0, 1, 3, 4]，返回为NoneType，返回值为None\n",
    "listA\n",
    "\n",
    "#格式为insert(index，obj),即在index = 0 \n",
    "#处插入100，listA更新，同样返回NoneType\n",
    "listA.insert(0, 100) \n",
    "\n",
    "\n",
    "listA.remove(3)\n",
    "listA.append(7)\n",
    "\n",
    "listA + listB\n",
    "\n",
    "listB.sort()\n",
    "\n",
    "#删除最后一个元素pop() 函数用于移除列表中的一个元素（默认最后一个元素），\n",
    "#并且返回该元素的值。\n",
    "listB.pop()\n",
    "\n",
    "listB.count('a')\n",
    "\n",
    "listA.extend([4, 1, 6, 3, 4])\n",
    "listA.count(4)\n",
    "\n",
    "#检测列表中是否含有1，\n",
    "#如果有，返回1开始的索引值，（多个1也是返回开始的）\n",
    "#否则抛出异常\n",
    "#异常为：\n",
    "#Traceback (most recent call last):\n",
    "#  File \"test.py\", line 8, in \n",
    "#  print str1.index(str2, 40);\n",
    "#  ValueError: substring not found\n",
    "\n",
    "listA.index(1)\n",
    "\n",
    "\n",
    "listA.pop(4)\n",
    "listA.reverse()\n",
    "listA"
   ]
  },
  {
   "cell_type": "code",
   "execution_count": null,
   "metadata": {
    "collapsed": true
   },
   "outputs": [],
   "source": [
    "常用的"
   ]
  },
  {
   "cell_type": "markdown",
   "metadata": {},
   "source": [
    "### L6 Problem 7\n",
    "先定义一个扫掠数组的函数：\n",
    "``` python\n",
    "def applyToEach(L, f):\n",
    "    for i in range(len(L)):\n",
    "        L[i] = f(L[i])\n",
    "```\n",
    "其中，L为数组，f为处理数组元素的函数，如果将每个元素乘以5，我们可以定义:\n",
    "``` python\n",
    "def timesFive(a):\n",
    "    return a * 5\n",
    "```\n",
    "然后输出\n",
    "``` python\n",
    "applyToEach(testList, timesFive)\n",
    "```\n",
    "即可。\n",
    "#### L6 Problem 7a\n",
    "输入的列表为:\n",
    "``` python\n",
    "testList = [1, -4, 8, -9] \n",
    "```\n",
    "输出 \n",
    "``` python\n",
    "print testList\n",
    "    [1, 4, 8, 9]\n",
    "```"
   ]
  },
  {
   "cell_type": "code",
   "execution_count": 63,
   "metadata": {
    "collapsed": false
   },
   "outputs": [
    {
     "name": "stdout",
     "output_type": "stream",
     "text": [
      "[1, 4, 8, 9]\n"
     ]
    }
   ],
   "source": [
    "testList = [1, -4, -8, -9]\n",
    "def applyToEach(L, f):\n",
    "    for i in range(len(L)):\n",
    "        L[i] = f(L[i])\n",
    "    return L\n",
    "\n",
    "def timesFive(a):\n",
    "    return abs(a)\n",
    "\n",
    "testList = applyToEach(testList, timesFive)\n",
    "print(testList)"
   ]
  },
  {
   "cell_type": "markdown",
   "metadata": {},
   "source": [
    "#### L6 Problem 7b\n",
    "输入的列表为:\n",
    "``` python\n",
    "testList = [1, -4, 8, -9] \n",
    "```\n",
    "输出 \n",
    "``` python\n",
    "print testList\n",
    "    [2, -3, 9, -8]\n",
    "```"
   ]
  },
  {
   "cell_type": "code",
   "execution_count": 66,
   "metadata": {
    "collapsed": false
   },
   "outputs": [
    {
     "name": "stdout",
     "output_type": "stream",
     "text": [
      "[2, -3, 9, -8]\n"
     ]
    }
   ],
   "source": [
    "testList = [1, -4, 8, -9]\n",
    "def applyToEach(L, f):\n",
    "    '''\n",
    "    L为输入的列表\n",
    "    f为函数，即f(x)= x ^ 2\n",
    "    \n",
    "    '''\n",
    "    for i in range(len(L)):\n",
    "        L[i] = f(L[i])\n",
    "    return L\n",
    "\n",
    "def timesFive(a):\n",
    "    return a + 1\n",
    "\n",
    "testList = applyToEach(testList, timesFive)\n",
    "print(testList)"
   ]
  },
  {
   "cell_type": "markdown",
   "metadata": {},
   "source": [
    "#### L6 Problem 7c\n",
    "输入的列表为:\n",
    "``` python\n",
    "testList = [1, -4, 8, -9] \n",
    "```\n",
    "输出 \n",
    "``` python\n",
    "print testList\n",
    "    [1, 16, 64, 81]\n",
    "```"
   ]
  },
  {
   "cell_type": "code",
   "execution_count": 67,
   "metadata": {
    "collapsed": false
   },
   "outputs": [
    {
     "name": "stdout",
     "output_type": "stream",
     "text": [
      "[1, 16, 64, 81]\n"
     ]
    }
   ],
   "source": [
    "testList = [1, -4, 8, -9]\n",
    "def applyToEach(L, f):\n",
    "    for i in range(len(L)):\n",
    "        L[i] = f(L[i])\n",
    "    return L\n",
    "\n",
    "def timesFive(a):\n",
    "    return a ** 2\n",
    "\n",
    "testList = applyToEach(testList, timesFive)\n",
    "print(testList)"
   ]
  },
  {
   "cell_type": "markdown",
   "metadata": {},
   "source": [
    "### L6 Problem 10 字典\n"
   ]
  },
  {
   "cell_type": "code",
   "execution_count": 76,
   "metadata": {
    "collapsed": false
   },
   "outputs": [
    {
     "data": {
      "text/plain": [
       "{'a': ['aardvark'],\n",
       " 'b': ['baboon'],\n",
       " 'c': ['coati'],\n",
       " 'd': ['donkey', 'dog', 'dingo']}"
      ]
     },
     "execution_count": 76,
     "metadata": {},
     "output_type": "execute_result"
    }
   ],
   "source": [
    "animals = { 'a': ['aardvark'], 'b': ['baboon'], 'c': ['coati']}\n",
    "\n",
    "animals['d'] = ['donkey']\n",
    "animals['d'].append('dog')\n",
    "animals['d'].append('dingo')\n",
    "animals"
   ]
  },
  {
   "cell_type": "markdown",
   "metadata": {},
   "source": [
    "统计aimals中动物的数量；\n",
    "``` python\n",
    "print(howMany(animals)\n",
    "[Out] 6\n",
    "```"
   ]
  },
  {
   "cell_type": "code",
   "execution_count": 79,
   "metadata": {
    "collapsed": false
   },
   "outputs": [
    {
     "name": "stdout",
     "output_type": "stream",
     "text": [
      "6\n"
     ]
    }
   ],
   "source": [
    "def howMany(aDict):\n",
    "    '''\n",
    "    aDict: A dictionary, where all the values are lists.\n",
    "\n",
    "    returns: int, how many values are in the dictionary.\n",
    "    '''\n",
    "    j = 0\n",
    "    for i in aDict.keys():\n",
    "        j += len(aDict[i]) #通过键来提取value中的数组\n",
    "    return j\n",
    "\n",
    "print(howMany(animals))"
   ]
  },
  {
   "cell_type": "markdown",
   "metadata": {},
   "source": [
    "### L6 Problem 11 \n",
    "求字典中value数量最多的键，\n",
    "如果为空，函数返回None\n",
    "返回其键（不是个数）\n",
    "``` python\n",
    "biggest(animals)\n",
    "[Out] 'd'\n",
    "```\n",
    "思路：新建一个**字典**，其键等于animals的键，值为```len(aDict[i])```.\n"
   ]
  },
  {
   "cell_type": "code",
   "execution_count": 17,
   "metadata": {
    "collapsed": false,
    "slideshow": {
     "slide_type": "-"
    }
   },
   "outputs": [
    {
     "name": "stdout",
     "output_type": "stream",
     "text": [
      "gaga\n"
     ]
    }
   ],
   "source": [
    "def biggest(aDict):\n",
    "    '''\n",
    "    aDict: A dictionary, where all the values are lists.\n",
    "\n",
    "    returns: The key with the largest number of values associated with it\n",
    "    '''\n",
    "    lenDict = {}\n",
    "    list_value_len = []\n",
    "    for i in aDict.keys():\n",
    "        lenDict[i] = len(aDict[i]) #创建一个长度字典，对应相应的值\n",
    "    \n",
    "    for j in lenDict.keys():\n",
    "        list_value_len.append(lenDict[j]) #将长度字典中的值组成一个列表，然后求列表中的最大值\n",
    "    \n",
    "    if len(list_value_len) == 0:\n",
    "        return None\n",
    "    else:\n",
    "        max_len = max(list_value_len)\n",
    "        for k in lenDict.keys():\n",
    "            if lenDict[k] == max_len:\n",
    "                return k\n",
    "            \n",
    "\n",
    "aDict = {'a':[1,2], 'b':[1, 2, 3], 'gaga':[1, 2, 3, 4, 5]}\n",
    "bDict = {}\n",
    "\n",
    "print(biggest(aDict))"
   ]
  },
  {
   "cell_type": "markdown",
   "metadata": {
    "collapsed": false
   },
   "source": [
    "e, 我的想法太复杂了\n",
    "答案循环一个个的比较，然后不断更新。\n",
    "而不是max求最大值然后对应\n",
    "**answers**:\n",
    "``` python\n",
    "def biggest(aDict)\n",
    "    result = None\n",
    "    biggestValue = 0\n",
    "    for key in aDict.keys():\n",
    "        if len(aDict[key]) >= biggestValue:\n",
    "            result = key\n",
    "            biggestValue = len(aDict[key])\n",
    "    return result\n",
    "   \n",
    "```"
   ]
  },
  {
   "cell_type": "code",
   "execution_count": 11,
   "metadata": {
    "collapsed": false
   },
   "outputs": [
    {
     "name": "stdout",
     "output_type": "stream",
     "text": [
      "gfafda yoxi gaga\n"
     ]
    }
   ],
   "source": [
    "print(\"gfafda\", end=\" \") \n",
    "print(\"yoxi\", end = \" \")\n",
    "print(\"gaga\")"
   ]
  },
  {
   "cell_type": "code",
   "execution_count": null,
   "metadata": {
    "collapsed": true
   },
   "outputs": [],
   "source": []
  }
 ],
 "metadata": {
  "anaconda-cloud": {},
  "kernelspec": {
   "display_name": "Python [Root]",
   "language": "python",
   "name": "Python [Root]"
  },
  "language_info": {
   "codemirror_mode": {
    "name": "ipython",
    "version": 3
   },
   "file_extension": ".py",
   "mimetype": "text/x-python",
   "name": "python",
   "nbconvert_exporter": "python",
   "pygments_lexer": "ipython3",
   "version": "3.5.1"
  }
 },
 "nbformat": 4,
 "nbformat_minor": 0
}
