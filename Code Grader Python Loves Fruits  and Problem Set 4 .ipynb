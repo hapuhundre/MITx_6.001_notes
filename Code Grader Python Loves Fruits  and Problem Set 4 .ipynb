{
 "cells": [
  {
   "cell_type": "markdown",
   "metadata": {},
   "source": [
    "## Code Grader: Python Loves Fruits\n",
    "\n",
    "Python是一名MIT的学生喜欢吃水果\n",
    "例如记一个吃水果的log，例如\"ABCAC',Python吃完一个水果，就会补充另外不同种类的水果一个，例如吃完一个\"A',就补充‘B','C'各一个，第二个吃一个B，就补充A和C各一个。直到吃最后一个水果C时，就只吃掉C，不补充水果了。\n",
    "返回字典中水果数量最大值。\n",
    "\n",
    "Write a function ```nfruits``` that takes two arguments:\n",
    "\n",
    "- 一个非空的字典，包括A non-empty dictionary containing type of fruit and its quantity initially with Python when he leaves home (字典长度 < 10)\n",
    "- A string pattern of the fruits eaten by Python on his journey as observed by Cobra.\n",
    "\n",
    "This function should return the maximum quantity out of the different types of fruits that is available with Python when he has reached the campus.\n",
    "\n",
    "For example, if the initial quantities are ```{'A': 1, 'B': 2, 'C': 3}``` and the string pattern is ```'AC'``` then\n",
    "\n",
    "1. ```'A'``` is consumed, updated values are ```{'A': 0, 'B': 2, 'C': 3}```\n",
    "2. Python buys ```'B'``` and ```'C'```, updated values are ```{'A': 0, 'B': 3, 'C': 4}```\n",
    "3. ```'C'``` is consumed, updated values are ```{'A': 0, 'B': 3, 'C': 3}```\n",
    "\n",
    "Now Python has reached the campus. So the function will return 3 that is maximum of the quantities of the three fruits.\n",
    "\n",
    "This is an optional exercise, but great for extra practice!"
   ]
  },
  {
   "cell_type": "code",
   "execution_count": 3,
   "metadata": {
    "collapsed": false
   },
   "outputs": [
    {
     "name": "stdout",
     "output_type": "stream",
     "text": [
      "7\n"
     ]
    }
   ],
   "source": [
    "def nfruits(dic_fruit, string_fruit):\n",
    "    fruit_list = []\n",
    "    for i in string_fruit:\n",
    "        fruit_list.append(i)\n",
    "    \n",
    "    j = 0\n",
    "    for j in range(len(fruit_list)):\n",
    "        if j != len(fruit_list) - 1:\n",
    "            for k in dic_fruit.keys():\n",
    "                dic_fruit[k] += 1    # updated all values of the whole dictionary\n",
    "            dic_fruit[fruit_list[j]] -= 2 # consume the fruit of list[j]\n",
    "        else:\n",
    "            dic_fruit[fruit_list[j]] -= 1\n",
    "    \n",
    "    return max(dic_fruit.values())\n",
    "\n",
    "dic_fruit = {'A':1, 'B':2, 'C':3}\n",
    "str_fruit = 'ABBBB'\n",
    "\n",
    "print(nfruits(dic_fruit, str_fruit))\n",
    "            "
   ]
  },
  {
   "cell_type": "markdown",
   "metadata": {
    "collapsed": true
   },
   "source": [
    "## Problem Set 4\n",
    "### A WORD GAME\n",
    "游戏规则如下：\n",
    "**Dealing**\n",
    "- \n",
    "-\n",
    "-\n",
    "\n",
    "### 先行的准备工作\n",
    "1. 下载文件，放置在文档文件夹下\n",
    "2. 运行其中的```ps4a.py```，如果一切正常，该脚本会一长串单词，并调用```playGame```函数，如果一切正常，则会显示：\n",
    "> Loading word list from file...\n",
    "            83667 words loaded.\n",
    "playGame not yet implemented\n",
    "\n",
    "如果出现```IOError```错误，注意调整文件路径\n",
    "\n",
    "3. 文件```ps4a.py```中有写好的函数可在后续答题中使用到。可以阅读Help code帮助理解\n",
    "\n",
    "\n",
    "### Problem Set 4.1: Word Scores\n",
    "\n"
   ]
  },
  {
   "cell_type": "markdown",
   "metadata": {},
   "source": [
    "计算一个word的得分，计分标准按照下面字典来定义：\n",
    "``` python\n",
    "SCRABBLE_LETTER_VALUES = {\n",
    "    'a': 1, 'b': 3, 'c': 3, 'd': 2, 'e': 1, 'f': 4, 'g': 2, 'h': 4, 'i': 1, 'j': 8, 'k': 5, 'l': 1, 'm': 3, 'n': 1, 'o': 1, 'p': 3, 'q': 10, 'r': 1, 's': 1, 't': 1, 'u': 1, 'v': 4, 'w': 4, 'x': 8, 'y': 4, 'z': 10\n",
    "}\n",
    "```\n",
    "例如我输入一个单词'abc'，然后返回整型7 （1 + 3 + 3）"
   ]
  },
  {
   "cell_type": "code",
   "execution_count": 2,
   "metadata": {
    "collapsed": false
   },
   "outputs": [
    {
     "name": "stdout",
     "output_type": "stream",
     "text": [
      "155\n"
     ]
    }
   ],
   "source": [
    "SCRABBLE_LETTER_VALUES = {\n",
    "    'a': 1, 'b': 3, 'c': 3, 'd': 2, 'e': 1, 'f': 4, 'g': 2, 'h': 4, 'i': 1, 'j': 8, 'k': 5, 'l': 1, 'm': 3, 'n': 1, 'o': 1, 'p': 3, 'q': 10, 'r': 1, 's': 1, 't': 1, 'u': 1, 'v': 4, 'w': 4, 'x': 8, 'y': 4, 'z': 10\n",
    "}\n",
    "\n",
    "def getWordScore(word, n):\n",
    "    \"\"\"\n",
    "    返回一个单词的得分。函数的形参为 单词 和 手上牌的个数（handsize）\n",
    "    计分规则如下：\n",
    "    * 先按SCRABBLE_LETTER_VALUE字典对应各个字母进行计分，如be的得分为3+1=4\n",
    "    * 将上述得分乘以word的长度，如be应该为4*2=8\n",
    "    * 如果单词用光了手上的牌，例如输入了be，而n恰好等于2，另外在上一步的得分上加50分，否则不加分。\n",
    "    \"\"\"\n",
    "    score = 0\n",
    "    for i in word:\n",
    "        score += SCRABBLE_LETTER_VALUES[i]\n",
    "    score *= len(word)\n",
    "    if len(word) == n:\n",
    "        score += 50\n",
    "    return score\n",
    "    \n",
    "    \"\"\"\n",
    "    先前的代码， WTF？！  \n",
    "    word_letter = []\n",
    "    score = 0\n",
    "    word_score = 0\n",
    "    len_word = len(word)\n",
    "    for i in range(len_word):\n",
    "        word_letter.append(word[i]) # 生成word字母列表\n",
    "    \n",
    "    for j in word_letter:\n",
    "        word_score += SCRABBLE_LETTER_VALUES[j]\n",
    "    \n",
    "    score = word_score * len_word\n",
    "    \n",
    "    if n != len_word:\n",
    "        return score\n",
    "    else:\n",
    "        return score + 50\n",
    "    \"\"\"\n",
    "    \n",
    "\n",
    "print(getWordScore('waybill',7))"
   ]
  },
  {
   "cell_type": "markdown",
   "metadata": {
    "collapsed": true
   },
   "source": [
    "### ProblemSet 4.2 Dealing with Hands\n"
   ]
  },
  {
   "cell_type": "markdown",
   "metadata": {
    "collapsed": true
   },
   "source": [
    "编写一个```updateHand```函数\n",
    "举个例子\n",
    "``` python\n",
    "hand = {'a':1, 'b':2, 'c':3} #字母与个数组成的字典\n",
    "hand = updateHand(hand,'abc')\n",
    "hand\n",
    "[out]: {'a':0, 'b':1, 'c':2}\n",
    "displayHand(hand)\n",
    "[out]: b c\n",
    "```\n",
    "- **注意1** \n",
    "以上例子需要考虑updateHand的参数里面的letter不在hand键里面，例如```hand = updateHand(hand, 'abcd')```这种不能报KeyError\n",
    "![image_1aobpibe0lg5ub91u681dql13r49.png-5.5kB][1]\n",
    "\n",
    "[1]: http://static.zybuluo.com/hapuhundre/ngvbkoimkk7my1uedv2nevny/image_1aobpibe0lg5ub91u681dql13r49.png\n",
    "\n",
    "- **注意2**\n",
    "字典应该先进行拷贝操作，因为hand是一个外部变量"
   ]
  },
  {
   "cell_type": "code",
   "execution_count": 4,
   "metadata": {
    "collapsed": false
   },
   "outputs": [
    {
     "name": "stdout",
     "output_type": "stream",
     "text": [
      "{'a': 0, 'i': 0, 'u': 0, 'q': 0, 'l': 1, 'm': 1}\n"
     ]
    }
   ],
   "source": [
    "def updateHand(hand, word):\n",
    "    \"\"\"\n",
    "    更新手牌\n",
    "    \n",
    "    \"\"\"\n",
    "    handCopy = hand.copy()\n",
    "    for i in word:\n",
    "        handCopy[i] = handCopy.get(i, 0) - 1\n",
    "    return handCopy\n",
    "        \n",
    "    \n",
    "    \n",
    "    \"\"\"\n",
    "    之前的代码,WTF?\n",
    "    word_list = []\n",
    "    hand_copy = hand.copy()\n",
    "    for i in word:\n",
    "        word_list.append(i)\n",
    "        \n",
    "    # 改变字典中的value\n",
    "    for k in word_list:\n",
    "        if hand_copy.get(k,0) != 0:\n",
    "            hand_copy[k] = hand_copy.get(k, 0) - 1\n",
    "    \n",
    "    for t in hand_copy.keys():\n",
    "        if hand_copy[t] < 0:\n",
    "            hand_copy[t] = 0\n",
    "            \n",
    "    return hand_copy       \n",
    "    \"\"\"\n",
    "\n",
    "    \n",
    "\n",
    "hand = {'a': 1, 'i': 1, 'm': 1, 'l': 2, 'q': 1, 'u': 1}\n",
    "hand = updateHand(hand, 'quail')\n",
    "print(hand)"
   ]
  },
  {
   "cell_type": "markdown",
   "metadata": {
    "collapsed": true
   },
   "source": [
    "### ProblemSet 4.3 Valid Words\n",
    "给你一个字符串```word```,一个小写字母组成的字母列表```wordList```，以及一个hand字典（string —> int)\n",
    "如果wordList包含有word字母，并且word全部在字典hand中的键字母，函数返回True，否则返回False。\n",
    "> Returns True if word is in the wordList and is entirely composed of letters in the hand. Otherwise, returns False.\n",
    "\n",
    "**WTF!!! 搞清楚wordList是什么啊！！！wordList是那个txt文件啊！！劳资在想什么啊！！我日！还 ```['e','e','h']```！！！我这sb又不好好看人家代码！！！**\n",
    "\n",
    "\n",
    "使用集合判断的方法是：\n",
    "``` python\n",
    "return all(hand.get(letter, 0) >= word.count(letter) for letter in set(word))\n",
    "# 这么帅气的return咱们要学习一个\n",
    "```\n",
    "\n"
   ]
  },
  {
   "cell_type": "code",
   "execution_count": 12,
   "metadata": {
    "collapsed": false
   },
   "outputs": [],
   "source": [
    "def isValidWord(word, hand, wordList):\n",
    "    handCopy = hand.copy()\n",
    "    if word not in wordList:\n",
    "        return False\n",
    "    for i in word:\n",
    "        handCopy[i] = handCopy.get(i,0) - 1\n",
    "        if handCopy[i] < 0:\n",
    "            return False\n",
    "    return True\n",
    "   \n",
    "   "
   ]
  },
  {
   "cell_type": "markdown",
   "metadata": {
    "collapsed": true
   },
   "source": [
    "### ProblemSet 4.4 hand length\n",
    "一共hand字典中键由字母,值由int组成，计算值（value）的和"
   ]
  },
  {
   "cell_type": "code",
   "execution_count": 17,
   "metadata": {
    "collapsed": false
   },
   "outputs": [
    {
     "data": {
      "text/plain": [
       "10"
      ]
     },
     "execution_count": 17,
     "metadata": {},
     "output_type": "execute_result"
    }
   ],
   "source": [
    "def calculateHandlen(hand):\n",
    "    \"\"\" \n",
    "    Returns the length (number of letters) in the current hand.\n",
    "    \n",
    "    hand: dictionary (string int)\n",
    "    returns: integer\n",
    "    \"\"\"\n",
    "    sum1 = 0\n",
    "    for i in hand.keys():\n",
    "        sum1 += hand[i]\n",
    "    return sum1\n",
    "\n",
    "calculateHandlen({'b': 1, 'e': 3, 'j': 2, 'v': 1, 'y': 1, 'z': 2})"
   ]
  },
  {
   "cell_type": "markdown",
   "metadata": {},
   "source": [
    "### ProblemSet 4.5 Playing a Hand\n",
    "伪代码如下（翻译版）：\n",
    "``` python\n",
    "# 在hand中依然有字母:\n",
    "    \n",
    "        # 显示hand\n",
    "        \n",
    "        # 询问用户输入Ask user for input\n",
    "        \n",
    "        # 如果用户输入\".\":\n",
    "        \n",
    "            # 结束游戏 (退出循环break out the loop)\n",
    "\n",
    "            \n",
    "        # 否则 (the input is not a single period):\n",
    "        \n",
    "            # 如果输入的word不是有效的: not valid word                isValidWord(word, hand, wordList)\n",
    "            \n",
    "                # 拒绝不有效的word (print a message followed by a blank line)\n",
    "\n",
    "            # 否则 (the word is valid):\n",
    "\n",
    "                # 通知用户获得了多少分, 并更新总得分（in one line followed by a blank line） getWordScore(word, n)\n",
    "                \n",
    "                # 更新hand        updateHand(hand, word)\n",
    "                \n",
    "\n",
    "    # Game is over (user entered a '.' or ran out of letters), so tell user the total score\n",
    "```\n"
   ]
  },
  {
   "cell_type": "code",
   "execution_count": null,
   "metadata": {
    "collapsed": true
   },
   "outputs": [],
   "source": [
    "def playHand(hand, wordList, n)\n",
    "    \"\"\"\n",
    "    * hand显示出来\n",
    "    * 用户使用\".\"来退出游戏\n",
    "    * 拒绝无效的word输入（即字母不属于hand）\n",
    "    * 当一个有效地word输入后，会使用hand字典中的字母\n",
    "    * 当一个有效地word输入后，会使用hand中的字母数量\n",
    "    * 显示得分，并显示hand剩下的字母，并询问用户继续输入另一个单词\n",
    "    * 当hand所有的字母用尽，显示总得分\n",
    "    * 当用户用尽hand中的字母或输入\".\", 程序退出\n",
    "    \n",
    "    \"\"\"\n",
    "    "
   ]
  },
  {
   "cell_type": "markdown",
   "metadata": {},
   "source": [
    "测试案例：\n",
    "![case #1][5]\n",
    "![case #2][6]\n",
    "![case #3 & addition test][7]\n",
    "\n",
    "[5]: http://static.zybuluo.com/hapuhundre/53uvahde5chs84phpvcrg3tg/01.PNG\n",
    "[6]: http://static.zybuluo.com/hapuhundre/2qqt6mw6qo2cgkyn2nuttbtr/02.PNG\n",
    "[7]: http://static.zybuluo.com/hapuhundre/3q5wox8ift9m1ybznk4x7a5t/03.PNG"
   ]
  },
  {
   "cell_type": "code",
   "execution_count": null,
   "metadata": {
    "collapsed": true
   },
   "outputs": [],
   "source": []
  }
 ],
 "metadata": {
  "anaconda-cloud": {},
  "kernelspec": {
   "display_name": "Python [Root]",
   "language": "python",
   "name": "Python [Root]"
  },
  "language_info": {
   "codemirror_mode": {
    "name": "ipython",
    "version": 3
   },
   "file_extension": ".py",
   "mimetype": "text/x-python",
   "name": "python",
   "nbconvert_exporter": "python",
   "pygments_lexer": "ipython3",
   "version": "3.5.1"
  }
 },
 "nbformat": 4,
 "nbformat_minor": 0
}
