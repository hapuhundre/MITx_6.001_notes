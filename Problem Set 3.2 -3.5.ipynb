{
 "cells": [
  {
   "cell_type": "markdown",
   "metadata": {},
   "source": [
    "## Problem Set 3\n",
    "### Problem Set 3.2 Hangman Part 1: Is the Word Guessed\n",
    "\n",
    "写入一个秘密单词```secretWord```,然后给定一个字母列表，判断该列表是否全部含有秘密单词中的全部字母。\n",
    "\n",
    "Example Usage:\n",
    "``` python\n",
    ">>> secretWord = 'apple' \n",
    ">>> lettersGuessed = ['e', 'i', 'k', 'p', 'r', 's']\n",
    ">>> print isWordGuessed(secretWord, lettersGuessed)\n",
    "False\n",
    "```"
   ]
  },
  {
   "cell_type": "code",
   "execution_count": 1,
   "metadata": {
    "collapsed": false
   },
   "outputs": [
    {
     "name": "stdout",
     "output_type": "stream",
     "text": [
      "True\n"
     ]
    }
   ],
   "source": [
    "def isWordGuessed(secretWord, lettersGuessed):\n",
    "    boolben = True\n",
    "    word = []\n",
    "    for i in secretWord:\n",
    "        word.append(i)\n",
    "    for i in secretWord:\n",
    "        if i not in lettersGuessed:\n",
    "            boolben = False\n",
    "            break\n",
    "    return boolben\n",
    "\n",
    "secretWord = 'apple' \n",
    "lettersGuessed = ['e', 'l', 'e', 'a', 'p']\n",
    "print(isWordGuessed(secretWord, lettersGuessed))\n"
   ]
  },
  {
   "cell_type": "markdown",
   "metadata": {
    "collapsed": true
   },
   "source": [
    "### Problem Set 3.3 Printing Out the User's Guess\n",
    "接下来，显示字母列表中含有的字母，没有的字母用```'_'```来代替。\n",
    "\n",
    "**Example Usage:**\n",
    "``` python\n",
    "secretWord = 'apple' \n",
    "lettersGuessed = ['e', 'i', 'k', 'p', 'r', 's']\n",
    "print getGuessedWord(secretWord, lettersGuessed)\n",
    "'_ pp_ e'\n",
    "```\n",
    "注意都是小写"
   ]
  },
  {
   "cell_type": "code",
   "execution_count": 2,
   "metadata": {
    "collapsed": false
   },
   "outputs": [
    {
     "name": "stdout",
     "output_type": "stream",
     "text": [
      "a___e\n"
     ]
    }
   ],
   "source": [
    "def getGuessedWord(secretWord, lettersGuessed):\n",
    "    word = []\n",
    "    result = ''\n",
    "    for i in secretWord:\n",
    "        word.append(i)\n",
    "    for i in secretWord:\n",
    "        if i not in lettersGuessed:\n",
    "            result = result + '_'\n",
    "        else:\n",
    "            result = result + i\n",
    "    return result\n",
    "\n",
    "secretWord = 'apple' \n",
    "lettersGuessed = ['e', 'i', 'k', 'a', 'r', 's']\n",
    "print(getGuessedWord(secretWord, lettersGuessed))"
   ]
  },
  {
   "cell_type": "markdown",
   "metadata": {},
   "source": [
    "### Problem Set 3.3 Printing Out all Available Letters\n",
    "接下来使用 ```getAvailableLetters``` 来显示26个字母中不含有给定字母列表中字母的字母字符串\n",
    "\n",
    "**Example Usage:**\n",
    "``` python\n",
    ">>> lettersGuessed = ['e', 'i', 'k', 'p', 'r', 's']\n",
    ">>> print getAvailableLetters(lettersGuessed)\n",
    "abcdfghjlmnoqtuvwxyz\n",
    "```\n",
    "\n",
    "\n",
    "**提示**: 可以使用 ```string.ascii_lowercase```来生成全部26个字母的字符串:\n",
    "```\n",
    ">>> import string\n",
    ">>> print string.ascii_lowercase\n",
    "abcdefghijklmnopqrstuvwxyz\n",
    "```\n"
   ]
  },
  {
   "cell_type": "code",
   "execution_count": 3,
   "metadata": {
    "collapsed": false
   },
   "outputs": [
    {
     "name": "stdout",
     "output_type": "stream",
     "text": [
      "abcdfghjlmnoqtuvwxyz\n"
     ]
    }
   ],
   "source": [
    "def getAvailableLetters(lettersGuessed):\n",
    "    import string\n",
    "    result = ''\n",
    "    for i in string.ascii_lowercase:\n",
    "        if i not in lettersGuessed:\n",
    "            result = result + i\n",
    "    return result\n",
    "\n",
    "lettersGuessed = ['e', 'i', 'k', 'p', 'r', 's']\n",
    "print(getAvailableLetters(lettersGuessed))    "
   ]
  },
  {
   "cell_type": "markdown",
   "metadata": {
    "collapsed": true
   },
   "source": [
    "实现一个人机猜词游戏\n",
    "成功的游戏界面如下\n",
    "```\n",
    "Loading word list from file...\n",
    "55900 words loaded.\n",
    "Welcome to the game, Hangman!\n",
    "I am thinking of a word that is 4 letters long.\n",
    "-------------\n",
    "You have 8 guesses left.\n",
    "Available letters: abcdefghijklmnopqrstuvwxyz\n",
    "Please guess a letter: a\n",
    "Good guess: _ a_ _\n",
    "------------\n",
    "You have 8 guesses left.\n",
    "Available letters: bcdefghijklmnopqrstuvwxyz\n",
    "Please guess a letter: a\n",
    "Oops! You've already guessed that letter: _ a_ _\n",
    "------------\n",
    "You have 8 guesses left.\n",
    "Available letters: bcdefghijklmnopqrstuvwxyz\n",
    "Please guess a letter: s\n",
    "Oops! That letter is not in my word: _ a_ _\n",
    "------------\n",
    "You have 7 guesses left.\n",
    "Available letters: bcdefghijklmnopqrtuvwxyz\n",
    "Please guess a letter: t\n",
    "Good guess: ta_ t\n",
    "------------\n",
    "You have 7 guesses left.\n",
    "Available letters: bcdefghijklmnopqruvwxyz\n",
    "Please guess a letter: r\n",
    "Oops! That letter is not in my word: ta_ t\n",
    "------------\n",
    "You have 6 guesses left.\n",
    "Available letters: bcdefghijklmnopquvwxyz\n",
    "Please guess a letter: m\n",
    "Oops! That letter is not in my word: ta_ t\n",
    "------------\n",
    "You have 5 guesses left.\n",
    "Available letters: bcdefghijklnopquvwxyz\n",
    "Please guess a letter: c\n",
    "Good guess: tact\n",
    "------------\n",
    "Congratulations, you won!\n",
    "```\n",
    "失败的游戏过程如下：\n",
    "```\n",
    "Loading word list from file...\n",
    "55900 words loaded.\n",
    "Welcome to the game Hangman!\n",
    "I am thinking of a word that is 4 letters long.\n",
    "-----------\n",
    "You have 8 guesses left.\n",
    "Available Letters: abcdefghijklmnopqrstuvwxyz\n",
    "Please guess a letter: a\n",
    "Oops! That letter is not in my word: _ _ _ _\n",
    "-----------\n",
    "You have 7 guesses left.\n",
    "Available Letters: bcdefghijklmnopqrstuvwxyz\n",
    "Please guess a letter: b\n",
    "Oops! That letter is not in my word: _ _ _ _\n",
    "-----------\n",
    "You have 6 guesses left.\n",
    "Available Letters: cdefghijklmnopqrstuvwxyz\n",
    "Please guess a letter: c\n",
    "Oops! That letter is not in my word: _ _ _ _\n",
    "-----------\n",
    "You have 5 guesses left.\n",
    "Available Letters: defghijklmnopqrstuvwxyz\n",
    "Please guess a letter: d\n",
    "Oops! That letter is not in my word: _ _ _ _\n",
    "-----------\n",
    "You have 4 guesses left.\n",
    "Available Letters: efghijklmnopqrstuvwxyz\n",
    "Please guess a letter: e\n",
    "Good guess: e_ _ e\n",
    "-----------\n",
    "You have 4 guesses left.\n",
    "Available Letters: fghijklmnopqrstuvwxyz\n",
    "Please guess a letter: f\n",
    "Oops! That letter is not in my word: e_ _ e\n",
    "-----------\n",
    "You have 3 guesses left.\n",
    "Available Letters: ghijklmnopqrstuvwxyz\n",
    "Please guess a letter: g\n",
    "Oops! That letter is not in my word: e_ _ e\n",
    "-----------\n",
    "You have 2 guesses left.\n",
    "Available Letters: hijklmnopqrstuvwxyz\n",
    "Please guess a letter: h\n",
    "Oops! That letter is not in my word: e_ _ e\n",
    "-----------\n",
    "You have 1 guesses left.\n",
    "Available Letters: ijklmnopqrstuvwxyz\n",
    "Please guess a letter: i\n",
    "Oops! That letter is not in my word: e_ _ e\n",
    "-----------\n",
    "Sorry, you ran out of guesses. The word was else.\n",
    "```\n",
    "可以使用上面写的函数。"
   ]
  },
  {
   "cell_type": "code",
   "execution_count": 8,
   "metadata": {
    "collapsed": false
   },
   "outputs": [
    {
     "name": "stdout",
     "output_type": "stream",
     "text": [
      "Welcome to the game Hangman!\n",
      "I am thinking of a word that is 4 letters long.\n",
      "-----------\n",
      "You have 8 guesses left.\n",
      "Available Letters: abcdefghijklmnopqrstuvwxyz\n",
      "Please guess a letter: A\n",
      "Good guess: _a_a\n",
      "-----------\n",
      "You have 8 guesses left.\n",
      "Available Letters: bcdefghijklmnopqrstuvwxyz\n",
      "Please guess a letter: g\n",
      "Good guess: gaga\n",
      "-----------\n",
      "Congratulations, you won!\n"
     ]
    }
   ],
   "source": [
    "def hangman(secretWord):\n",
    "    print('Welcome to the game Hangman!\\nI am thinking of a word \\\n",
    "that is %d letters long.\\n-----------' % len(secretWord))\n",
    "    lettersGuessed = []\n",
    "    goalWord = secretWord.lower()\n",
    "    result = ''\n",
    "    i = 8\n",
    "    while i >= 1:\n",
    "        if result == goalWord:\n",
    "            break\n",
    "        print('You have %d guesses left.' % i)\n",
    "        print('Available Letters: %s' % getAvailableLetters(lettersGuessed))\n",
    "        letter_input = input('Please guess a letter: ')\n",
    "        lower_input = letter_input.lower()\n",
    "        result = getGuessedWord(goalWord, lettersGuessed)\n",
    "        \n",
    "        if lower_input in lettersGuessed:\n",
    "            print('Oops! You\\'ve already guessed that letter: %s' % result)\n",
    "        elif lower_input in goalWord:\n",
    "            lettersGuessed.append(lower_input)\n",
    "            result = getGuessedWord(goalWord, lettersGuessed)\n",
    "            print('Good guess: %s' % result)\n",
    "        else:\n",
    "            lettersGuessed.append(lower_input)\n",
    "            print('Oops! That letter is not in my word: %s' % result)\n",
    "            i -= 1\n",
    "        print('-----------')\n",
    "    \n",
    "    if '_' in result:\n",
    "        print('Sorry, you ran out of guesses. The word was else.')\n",
    "    else:\n",
    "        print('Congratulations, you won!')\n",
    "    \n",
    "    \n",
    "hangman('Gaga')"
   ]
  },
  {
   "cell_type": "code",
   "execution_count": null,
   "metadata": {
    "collapsed": true
   },
   "outputs": [],
   "source": []
  }
 ],
 "metadata": {
  "anaconda-cloud": {},
  "kernelspec": {
   "display_name": "Python [Root]",
   "language": "python",
   "name": "Python [Root]"
  },
  "language_info": {
   "codemirror_mode": {
    "name": "ipython",
    "version": 3
   },
   "file_extension": ".py",
   "mimetype": "text/x-python",
   "name": "python",
   "nbconvert_exporter": "python",
   "pygments_lexer": "ipython3",
   "version": "3.5.1"
  }
 },
 "nbformat": 4,
 "nbformat_minor": 0
}
