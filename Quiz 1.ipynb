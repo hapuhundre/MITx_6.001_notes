{
 "cells": [
  {
   "cell_type": "markdown",
   "metadata": {},
   "source": [
    "## Quiz 1\n",
    "### 递归函数\n",
    "写一个递归函数，将含有子列表的列表弄平（flatten）\n",
    "例如：\n",
    "``` python\n",
    ">>> print flatten([[1,'a',['cat'],2],[[[3]],'dog'],4,5])\n",
    "[1, 'a', 'cat', 2, 3, 'dog', 4, 5]\n",
    ">>> print flatten([[[],[]],[]])\n",
    "[]\n",
    "```"
   ]
  },
  {
   "cell_type": "code",
   "execution_count": 1,
   "metadata": {
    "collapsed": false
   },
   "outputs": [
    {
     "name": "stdout",
     "output_type": "stream",
     "text": [
      "[1, 'a', 'cat', 2, 3, 'dog', 4, 5]\n"
     ]
    }
   ],
   "source": [
    "def flatten(aList):\n",
    "    bList = []\n",
    "    cList = []\n",
    "    subList = True\n",
    "    for i in aList:\n",
    "        if type(i) == list:\n",
    "            bList += i\n",
    "            subList = False\n",
    "        else:\n",
    "            bList.append(i)\n",
    "    aList = bList\n",
    "    \n",
    "    if subList == True:\n",
    "        return aList\n",
    "    else:\n",
    "        return flatten(aList)\n",
    "\n",
    "print(flatten([[1,'a',['cat'],2],[[[3]],'dog'],4,5]))"
   ]
  },
  {
   "cell_type": "markdown",
   "metadata": {},
   "source": [
    "### 字典操作\n",
    "计算字典的交叉（intersect）与差异（difference）\n",
    "举个例子，先定义好一个函数**```f```**.\n",
    "\n",
    "- 如果函数```f(a, b)```返回 ```a + b```,\n",
    "\n",
    "  ``` python\n",
    "    d1 = {1:30, 2:20, 3:30, 5:80}\n",
    "    d2 = {1:40, 2:50, 3:60, 4:70, 6:90}\n",
    "  ```\n",
    "  则 ```dict_interdiff(d1, d2)``` 返回\n",
    "  ``` python\n",
    "  ({1: 70, 2: 70, 3: 90}, {4: 70, 5: 80, 6: 90})\n",
    "  ```\n",
    "  \n",
    "- 如果函数```f(a, b)```返回``` a > b```,\n",
    "``` python\n",
    "    d1 = {1:30, 2:20, 3:30}\n",
    "    d2 = {1:40, 2:50, 3:60}\n",
    "```\n",
    "则 ```dict_interdiff(d1, d2)``` 返回\n",
    "``` python\n",
    "({1: False, 2: False, 3: False}, {})\n",
    "```"
   ]
  },
  {
   "cell_type": "code",
   "execution_count": 4,
   "metadata": {
    "collapsed": false
   },
   "outputs": [
    {
     "data": {
      "text/plain": [
       "({1: False, 2: False, 3: False}, {})"
      ]
     },
     "execution_count": 4,
     "metadata": {},
     "output_type": "execute_result"
    }
   ],
   "source": [
    "def dict_interdiff(d1, d2):\n",
    "    d3 = {}\n",
    "    d4 = {}\n",
    "    for i in d1.keys():\n",
    "        if i in d2.keys():\n",
    "            d3[i] = f(d1[i],d2[i])\n",
    "        else:\n",
    "            d4[i] = d1[i]\n",
    "    for i in d2.keys():\n",
    "        if i not in  d1.keys():\n",
    "            d4[i] = d2[i]\n",
    "    return (d3, d4)\n",
    "\n",
    "def f(a, b):\n",
    "    return a > b\n",
    "\n",
    "d1 = {1:30, 2:20, 3:30, 5:80}\n",
    "d2 = {1:40, 2:50, 3:60}\n",
    "dict_interdiff({1: 1, 2: 2, 3: 3}, {1: 1, 2: 2, 3: 3})\n",
    "\n",
    "            "
   ]
  },
  {
   "cell_type": "markdown",
   "metadata": {},
   "source": [
    "### 高阶函数（High-order function）"
   ]
  },
  {
   "cell_type": "code",
   "execution_count": 7,
   "metadata": {
    "collapsed": false
   },
   "outputs": [
    {
     "ename": "SyntaxError",
     "evalue": "name 'L' is parameter and global (<ipython-input-7-89307f607172>, line 5)",
     "output_type": "error",
     "traceback": [
      "\u001b[1;36m  File \u001b[1;32m\"<ipython-input-7-89307f607172>\"\u001b[1;36m, line \u001b[1;32m5\u001b[0m\n\u001b[1;33m    global L\u001b[0m\n\u001b[1;31mSyntaxError\u001b[0m\u001b[1;31m:\u001b[0m name 'L' is parameter and global\n"
     ]
    }
   ],
   "source": [
    "L = ['a', 'b', 'a']\n",
    "\n",
    "def satisfiesF(L):\n",
    "    sum1 = 0\n",
    "    global L\n",
    "    k = []\n",
    "    for i in L:\n",
    "        if f(i) == True:\n",
    "            sum1 += 1\n",
    "            k.append(i)\n",
    "    \n",
    "    return sum1\n",
    "\n",
    "def f(s):\n",
    "    return 'a' in s\n",
    "\n",
    "\n",
    "print(satisfiesF(L))\n",
    "print(L)\n",
    "        "
   ]
  },
  {
   "cell_type": "code",
   "execution_count": null,
   "metadata": {
    "collapsed": true
   },
   "outputs": [],
   "source": []
  }
 ],
 "metadata": {
  "anaconda-cloud": {},
  "kernelspec": {
   "display_name": "Python [Root]",
   "language": "python",
   "name": "Python [Root]"
  },
  "language_info": {
   "codemirror_mode": {
    "name": "ipython",
    "version": 3
   },
   "file_extension": ".py",
   "mimetype": "text/x-python",
   "name": "python",
   "nbconvert_exporter": "python",
   "pygments_lexer": "ipython3",
   "version": "3.5.1"
  }
 },
 "nbformat": 4,
 "nbformat_minor": 0
}
