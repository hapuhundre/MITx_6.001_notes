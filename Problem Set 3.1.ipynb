{
 "cells": [
  {
   "cell_type": "markdown",
   "metadata": {},
   "source": [
    "## Problem Set 3\n",
    "### 3.1 Radiation Exposure\n",
    "\"Radioactive decay\" is the process by which an unstable atom loses energy and emits ionizing particles - what is commonly refered to as radiation. Exposure to radiation can be dangerous and is very important to measure to ensure that one is not exposed to too terribly much of it.\n",
    "\n",
    "The radioactivity of a material decreases over time, as the material decays. A radioactive decay curve describes this decay. The x-axis measures time, and the y-axis measures the amount of activity produced by the radioactive sample. 'Activity' is defined as the rate at which the nuclei within the sample undergo transititions - put simply, this measures how much radiation is emitted at any one point in time. The measurement of activity is called the [Becquerel][1] (Bq). Here is a sample radioactive decay curve:\n",
    "![pic1][2]\n",
    "Now here's the problem we'd like to solve. Let's say Sarina has moved into a new apartment. Unbeknownst to her, there is a sample of Cobalt-60 inside one of the walls of the apartment. Initially that sample had 10 MBq of activity, but she moves in after the sample has been there for 5 years. She lives in the apartment for 6 years, then leaves. How much radiation was she exposed to?\n",
    "\n",
    "We can actually figure this out using the radioactive decay curve from above. What we want to know is her total radiation exposure from year 5 to year 11.\n",
    "![pic2][3]\n",
    "Total radiation exposure corresponds to the area between the two green lines at time = 5 and time = 11, and under the blue radioactive decay curve. This should make intuitive sense - if the x axis measures time, and the y axis measures activity, then the area under the curve measures (time * activity) = MBq\\* years, or, approximately the total number of MBq Sarina was exposed to in her time in the radioactive apartment (technically, this result is the combination of gamma rays and beta particles she was exposed to, but this gets a bit complicated, so we'll ignore it. Sorry, physicists!).\n",
    "![pic3][4]\n",
    "So far, so good. But, how do we calculate this? Unlike a simple shape - say a square, or a circle - we have no easy way to tell what the area under this curve is.\n",
    "\n",
    "However, we have learned a technique that can help us here - *approximation*. Let's use an approximation algorithm to estimate the area under this curve! We'll do so by first splitting up the area into equally-sized rectangles (in this case, six of them, one rectangle per year):\n",
    "![pic4][5]\n",
    "Once we've done that, we can figure out the area of each rectangle pretty easily. Recall that the area of a rectangle is found by multiplying the height of the rectangle by its width. The height of this rectangle:\n",
    "![pic5][6]\n",
    "is the value of the curve at 5.0. If the curve is described by a function, ```f```, we can obtain the value of the curve by asking for```f(5.0)```\n",
    "```\n",
    "f(5.0) = 5.181\n",
    "```\n",
    "The width of the rectangle is 1.0. So the area of this single rectangle is```1.0*5.181 = 5.181```.To approximate how much radiation Sarina was exposed to, we next calculate the area of each successive rectangle and then sum up the areas of each rectangle to get the total. When we do this, we find that Sarina was exposed to nearly 23 MBq of radiation (technically, her apartment was bombarded by 23e6 * 3.154e6 = 7.25e13 neutrons, for those interested...).\n",
    "\n",
    "Whether or not this will kill Sarina depends exactly on the type of radiation she was exposed to (see [this link][7] which discusses more about the ways of measuring radiation). Either way, she should probably ask her landlord for a substantial refund.\n",
    "\n",
    "In this problem, you are asked to find the amount of radiation a person is exposed to during some period of time by completing the following function:\n",
    "``` python\n",
    "def radiationExposure(start, stop, step):\n",
    "    '''\n",
    "    Computes and returns the amount of radiation exposed\n",
    "    to between the start and stop times. Calls the \n",
    "    function f (defined for you in the grading script)\n",
    "    to obtain the value of the function at any point.\n",
    " \n",
    "    start: integer, the time at which exposure begins\n",
    "    stop: integer, the time at which exposure ends\n",
    "    step: float, the width of each rectangle. You can assume that\n",
    "      the step size will always partition the space evenly.\n",
    "\n",
    "    returns: float, the amount of radiation exposed to \n",
    "      between start and stop times.\n",
    "    '''\n",
    "```\n",
    "To complete this function you'll need to know what the value of the radioactive decay curve is at various points. There is a function ```f``` that will be defined for you that you can call from within your function that describes the radioactive decay curve for the problem. Do not define ```f``` in your code.\n",
    "\n",
    "You should implement this function on your own machine. Open a new Canopy Python file and title it \"radiationExposure.py\". Complete your work inside this file. Test your code well in Canopy, and when you are convinced it is correct, cut and paste your definition into this tutor window.\n",
    "\n",
    "[1]: http://en.wikipedia.org/wiki/Becquerel\n",
    "[2]: https://d37djvu3ytnwxt.cloudfront.net/assets/courseware/2ffc221e90278a307d2e7d50bcd62b91/asset-v1:MITx+6.00.1x_9+2T2016+type@asset+block/files_ps03_files_DecayCurve.png\n",
    "[3]: https://d37djvu3ytnwxt.cloudfront.net/assets/courseware/1993081f33a0e0ef18f5bef43283c26c/asset-v1:MITx+6.00.1x_9+2T2016+type@asset+block/files_ps03_files_DecayCurveMarked.png\n",
    "[4]: https://d37djvu3ytnwxt.cloudfront.net/assets/courseware/3294f6a49d57361325639050bb557cf6/asset-v1:MITx+6.00.1x_9+2T2016+type@asset+block/files_ps03_files_DecayCurveFill.png\n",
    "[5]: https://d37djvu3ytnwxt.cloudfront.net/assets/courseware/700c15ee3656ccb13dbc373dfde086d1/asset-v1:MITx+6.00.1x_9+2T2016+type@asset+block/files_ps03_files_DecayCurveRectangles.png\n",
    "[6]: https://d37djvu3ytnwxt.cloudfront.net/assets/courseware/42c40030d9b27e30e55ee808f6312eb4/asset-v1:MITx+6.00.1x_9+2T2016+type@asset+block/files_ps03_files_Rectangle1.png\n",
    "[7]: http://web.mit.edu/newsoffice/2011/explained-radioactivity-0328.html"
   ]
  },
  {
   "cell_type": "code",
   "execution_count": 2,
   "metadata": {
    "collapsed": false
   },
   "outputs": [
    {
     "name": "stdout",
     "output_type": "stream",
     "text": [
      "22.94241041057671\n"
     ]
    }
   ],
   "source": [
    "def f(x):\n",
    "    import math\n",
    "    return 10*math.e**(math.log(0.5)/5.27 * x)\n",
    "\n",
    "def radiationExposure(start, stop, step):\n",
    "    num_step = int((stop - start) / step)\n",
    "    result = 0\n",
    "    for i in range(num_step):\n",
    "        result = result + f(start + i * step) * step\n",
    "    return result\n",
    "\n",
    "print(radiationExposure(5,11,1))   "
   ]
  },
  {
   "cell_type": "code",
   "execution_count": null,
   "metadata": {
    "collapsed": true
   },
   "outputs": [],
   "source": []
  }
 ],
 "metadata": {
  "anaconda-cloud": {},
  "kernelspec": {
   "display_name": "Python [Root]",
   "language": "python",
   "name": "Python [Root]"
  },
  "language_info": {
   "codemirror_mode": {
    "name": "ipython",
    "version": 3
   },
   "file_extension": ".py",
   "mimetype": "text/x-python",
   "name": "python",
   "nbconvert_exporter": "python",
   "pygments_lexer": "ipython3",
   "version": "3.5.1"
  }
 },
 "nbformat": 4,
 "nbformat_minor": 0
}
